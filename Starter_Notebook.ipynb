{
 "cells": [
  {
   "cell_type": "markdown",
   "id": "bdfbc4dd",
   "metadata": {},
   "source": [
    "#### Import moduldes"
   ]
  },
  {
   "cell_type": "code",
   "execution_count": 1,
   "id": "210ce524",
   "metadata": {},
   "outputs": [],
   "source": [
    "import pandas as pd\n",
    "import seaborn as sns\n",
    "import matplotlib.pyplot as plt\n",
    "\n",
    "from sklearn import preprocessing\n",
    "from sklearn.ensemble import RandomForestClassifier\n",
    "from sklearn.datasets import make_classification\n",
    "\n",
    "pd.set_option('display.max_columns', None)"
   ]
  },
  {
   "cell_type": "markdown",
   "id": "074e4dfa",
   "metadata": {},
   "source": [
    "#### Load the data provided"
   ]
  },
  {
   "cell_type": "code",
   "execution_count": 2,
   "id": "6247095e",
   "metadata": {},
   "outputs": [],
   "source": [
    "Train = pd.read_csv(\"Train.csv\")"
   ]
  },
  {
   "cell_type": "code",
   "execution_count": 3,
   "id": "fad0aac9",
   "metadata": {},
   "outputs": [
    {
     "data": {
      "text/html": [
       "<div>\n",
       "<style scoped>\n",
       "    .dataframe tbody tr th:only-of-type {\n",
       "        vertical-align: middle;\n",
       "    }\n",
       "\n",
       "    .dataframe tbody tr th {\n",
       "        vertical-align: top;\n",
       "    }\n",
       "\n",
       "    .dataframe thead th {\n",
       "        text-align: right;\n",
       "    }\n",
       "</style>\n",
       "<table border=\"1\" class=\"dataframe\">\n",
       "  <thead>\n",
       "    <tr style=\"text-align: right;\">\n",
       "      <th></th>\n",
       "      <th>Date</th>\n",
       "      <th>Season</th>\n",
       "      <th>Match_ID</th>\n",
       "      <th>Game_ID</th>\n",
       "      <th>Home Team</th>\n",
       "      <th>Away Team</th>\n",
       "      <th>Score</th>\n",
       "    </tr>\n",
       "  </thead>\n",
       "  <tbody>\n",
       "    <tr>\n",
       "      <th>0</th>\n",
       "      <td>2017-02-15</td>\n",
       "      <td>1</td>\n",
       "      <td>1.0</td>\n",
       "      <td>ID_KAG4KAE9</td>\n",
       "      <td>Antennae</td>\n",
       "      <td>Andromeda</td>\n",
       "      <td>Away win</td>\n",
       "    </tr>\n",
       "    <tr>\n",
       "      <th>1</th>\n",
       "      <td>2016-09-14</td>\n",
       "      <td>1</td>\n",
       "      <td>12.0</td>\n",
       "      <td>ID_T7H1XN5Z</td>\n",
       "      <td>Andromeda</td>\n",
       "      <td>Antennae</td>\n",
       "      <td>Draw</td>\n",
       "    </tr>\n",
       "    <tr>\n",
       "      <th>2</th>\n",
       "      <td>2016-12-12</td>\n",
       "      <td>1</td>\n",
       "      <td>13.0</td>\n",
       "      <td>ID_O1P9FGN4</td>\n",
       "      <td>Andromeda</td>\n",
       "      <td>Butterfly</td>\n",
       "      <td>Away win</td>\n",
       "    </tr>\n",
       "    <tr>\n",
       "      <th>3</th>\n",
       "      <td>2017-01-25</td>\n",
       "      <td>1</td>\n",
       "      <td>14.0</td>\n",
       "      <td>ID_TR5M4KQV</td>\n",
       "      <td>Andromeda</td>\n",
       "      <td>Cigar</td>\n",
       "      <td>Away win</td>\n",
       "    </tr>\n",
       "    <tr>\n",
       "      <th>4</th>\n",
       "      <td>2016-08-24</td>\n",
       "      <td>1</td>\n",
       "      <td>15.0</td>\n",
       "      <td>ID_EOIECRE2</td>\n",
       "      <td>Andromeda</td>\n",
       "      <td>Circinus</td>\n",
       "      <td>Home Win</td>\n",
       "    </tr>\n",
       "  </tbody>\n",
       "</table>\n",
       "</div>"
      ],
      "text/plain": [
       "         Date  Season  Match_ID      Game_ID  Home Team  Away Team     Score\n",
       "0  2017-02-15       1       1.0  ID_KAG4KAE9   Antennae  Andromeda  Away win\n",
       "1  2016-09-14       1      12.0  ID_T7H1XN5Z  Andromeda   Antennae      Draw\n",
       "2  2016-12-12       1      13.0  ID_O1P9FGN4  Andromeda  Butterfly  Away win\n",
       "3  2017-01-25       1      14.0  ID_TR5M4KQV  Andromeda      Cigar  Away win\n",
       "4  2016-08-24       1      15.0  ID_EOIECRE2  Andromeda   Circinus  Home Win"
      ]
     },
     "execution_count": 3,
     "metadata": {},
     "output_type": "execute_result"
    }
   ],
   "source": [
    "Train.head()"
   ]
  },
  {
   "cell_type": "code",
   "execution_count": 4,
   "id": "e0b79e1d",
   "metadata": {},
   "outputs": [],
   "source": [
    "Test = pd.read_csv(\"Test.csv\")"
   ]
  },
  {
   "cell_type": "code",
   "execution_count": 5,
   "id": "df8ad21c",
   "metadata": {},
   "outputs": [
    {
     "data": {
      "text/html": [
       "<div>\n",
       "<style scoped>\n",
       "    .dataframe tbody tr th:only-of-type {\n",
       "        vertical-align: middle;\n",
       "    }\n",
       "\n",
       "    .dataframe tbody tr th {\n",
       "        vertical-align: top;\n",
       "    }\n",
       "\n",
       "    .dataframe thead th {\n",
       "        text-align: right;\n",
       "    }\n",
       "</style>\n",
       "<table border=\"1\" class=\"dataframe\">\n",
       "  <thead>\n",
       "    <tr style=\"text-align: right;\">\n",
       "      <th></th>\n",
       "      <th>Date</th>\n",
       "      <th>Season</th>\n",
       "      <th>Match_ID</th>\n",
       "      <th>Game_ID</th>\n",
       "      <th>Home Team</th>\n",
       "      <th>Away Team</th>\n",
       "    </tr>\n",
       "  </thead>\n",
       "  <tbody>\n",
       "    <tr>\n",
       "      <th>0</th>\n",
       "      <td>2018-12-08</td>\n",
       "      <td>3</td>\n",
       "      <td>102.0</td>\n",
       "      <td>ID_8518U587</td>\n",
       "      <td>Antennae</td>\n",
       "      <td>Cosmos Redshift 7</td>\n",
       "    </tr>\n",
       "    <tr>\n",
       "      <th>1</th>\n",
       "      <td>2018-09-11</td>\n",
       "      <td>3</td>\n",
       "      <td>18.0</td>\n",
       "      <td>ID_H49BIKG7</td>\n",
       "      <td>Cosmos Redshift 7</td>\n",
       "      <td>Tadpole</td>\n",
       "    </tr>\n",
       "    <tr>\n",
       "      <th>2</th>\n",
       "      <td>2018-09-25</td>\n",
       "      <td>3</td>\n",
       "      <td>32.0</td>\n",
       "      <td>ID_PO6SP4VA</td>\n",
       "      <td>Cosmos Redshift 7</td>\n",
       "      <td>Medusa Merger</td>\n",
       "    </tr>\n",
       "    <tr>\n",
       "      <th>3</th>\n",
       "      <td>2018-10-02</td>\n",
       "      <td>3</td>\n",
       "      <td>40.0</td>\n",
       "      <td>ID_MZRCNBAQ</td>\n",
       "      <td>Cartwheel</td>\n",
       "      <td>Cosmos Redshift 7</td>\n",
       "    </tr>\n",
       "    <tr>\n",
       "      <th>4</th>\n",
       "      <td>2018-12-20</td>\n",
       "      <td>3</td>\n",
       "      <td>123.0</td>\n",
       "      <td>ID_CV9VOLIU</td>\n",
       "      <td>Cosmos Redshift 7</td>\n",
       "      <td>Needle</td>\n",
       "    </tr>\n",
       "  </tbody>\n",
       "</table>\n",
       "</div>"
      ],
      "text/plain": [
       "         Date  Season  Match_ID      Game_ID          Home Team  \\\n",
       "0  2018-12-08       3     102.0  ID_8518U587           Antennae   \n",
       "1  2018-09-11       3      18.0  ID_H49BIKG7  Cosmos Redshift 7   \n",
       "2  2018-09-25       3      32.0  ID_PO6SP4VA  Cosmos Redshift 7   \n",
       "3  2018-10-02       3      40.0  ID_MZRCNBAQ          Cartwheel   \n",
       "4  2018-12-20       3     123.0  ID_CV9VOLIU  Cosmos Redshift 7   \n",
       "\n",
       "           Away Team  \n",
       "0  Cosmos Redshift 7  \n",
       "1            Tadpole  \n",
       "2      Medusa Merger  \n",
       "3  Cosmos Redshift 7  \n",
       "4             Needle  "
      ]
     },
     "execution_count": 5,
     "metadata": {},
     "output_type": "execute_result"
    }
   ],
   "source": [
    "Test.head()"
   ]
  },
  {
   "cell_type": "code",
   "execution_count": 6,
   "id": "371ee58e",
   "metadata": {},
   "outputs": [
    {
     "name": "stderr",
     "output_type": "stream",
     "text": [
      "/var/folders/v5/s0zs7tln6bvgd_7p334kjdjr0000gn/T/ipykernel_51738/2395892949.py:1: DtypeWarning: Columns (17,18,22) have mixed types. Specify dtype option on import or set low_memory=False.\n",
      "  game_statistics = pd.read_csv(\"game_statistics.csv\")\n"
     ]
    }
   ],
   "source": [
    "game_statistics = pd.read_csv(\"game_statistics.csv\")"
   ]
  },
  {
   "cell_type": "code",
   "execution_count": 7,
   "id": "64c75d0f",
   "metadata": {},
   "outputs": [
    {
     "data": {
      "text/html": [
       "<div>\n",
       "<style scoped>\n",
       "    .dataframe tbody tr th:only-of-type {\n",
       "        vertical-align: middle;\n",
       "    }\n",
       "\n",
       "    .dataframe tbody tr th {\n",
       "        vertical-align: top;\n",
       "    }\n",
       "\n",
       "    .dataframe thead th {\n",
       "        text-align: right;\n",
       "    }\n",
       "</style>\n",
       "<table border=\"1\" class=\"dataframe\">\n",
       "  <thead>\n",
       "    <tr style=\"text-align: right;\">\n",
       "      <th></th>\n",
       "      <th>Game_ID</th>\n",
       "      <th>Player_ID</th>\n",
       "      <th>id</th>\n",
       "      <th>X</th>\n",
       "      <th>Y</th>\n",
       "      <th>Team</th>\n",
       "      <th>Action</th>\n",
       "      <th>Half</th>\n",
       "      <th>Manager</th>\n",
       "      <th>Opposition_Team</th>\n",
       "      <th>Shots</th>\n",
       "      <th>SoT</th>\n",
       "      <th>Accurate passes</th>\n",
       "      <th>Inaccurate passes</th>\n",
       "      <th>Passes</th>\n",
       "      <th>Start_minutes</th>\n",
       "      <th>End_minutes</th>\n",
       "      <th>next_player</th>\n",
       "      <th>next_action</th>\n",
       "      <th>next_x</th>\n",
       "      <th>next_y</th>\n",
       "      <th>event_id</th>\n",
       "      <th>next_team</th>\n",
       "      <th>next_event_id</th>\n",
       "      <th>xt_value</th>\n",
       "    </tr>\n",
       "  </thead>\n",
       "  <tbody>\n",
       "    <tr>\n",
       "      <th>0</th>\n",
       "      <td>ID_ZZKYYPVY</td>\n",
       "      <td>Player_O7HO1NOB</td>\n",
       "      <td>1.0</td>\n",
       "      <td>52.5</td>\n",
       "      <td>34.0</td>\n",
       "      <td>Circinus</td>\n",
       "      <td>Accurate passes</td>\n",
       "      <td>1st half</td>\n",
       "      <td>Ryoichi</td>\n",
       "      <td>Backward</td>\n",
       "      <td>0.0</td>\n",
       "      <td>0.0</td>\n",
       "      <td>1.0</td>\n",
       "      <td>0.0</td>\n",
       "      <td>1.0</td>\n",
       "      <td>0.03</td>\n",
       "      <td>0.37</td>\n",
       "      <td>NaN</td>\n",
       "      <td>NaN</td>\n",
       "      <td>NaN</td>\n",
       "      <td>NaN</td>\n",
       "      <td>NaN</td>\n",
       "      <td>NaN</td>\n",
       "      <td>NaN</td>\n",
       "      <td>NaN</td>\n",
       "    </tr>\n",
       "    <tr>\n",
       "      <th>1</th>\n",
       "      <td>ID_ZZKYYPVY</td>\n",
       "      <td>Player_O7HO1NOB</td>\n",
       "      <td>2.0</td>\n",
       "      <td>52.5</td>\n",
       "      <td>34.0</td>\n",
       "      <td>Circinus</td>\n",
       "      <td>Positional attacks</td>\n",
       "      <td>1st half</td>\n",
       "      <td>Ryoichi</td>\n",
       "      <td>Backward</td>\n",
       "      <td>0.0</td>\n",
       "      <td>0.0</td>\n",
       "      <td>0.0</td>\n",
       "      <td>0.0</td>\n",
       "      <td>0.0</td>\n",
       "      <td>0.03</td>\n",
       "      <td>0.37</td>\n",
       "      <td>NaN</td>\n",
       "      <td>NaN</td>\n",
       "      <td>NaN</td>\n",
       "      <td>NaN</td>\n",
       "      <td>NaN</td>\n",
       "      <td>NaN</td>\n",
       "      <td>NaN</td>\n",
       "      <td>NaN</td>\n",
       "    </tr>\n",
       "    <tr>\n",
       "      <th>2</th>\n",
       "      <td>ID_ZZKYYPVY</td>\n",
       "      <td>Player_J0V7B0YE</td>\n",
       "      <td>3.0</td>\n",
       "      <td>37.0</td>\n",
       "      <td>32.7</td>\n",
       "      <td>Circinus</td>\n",
       "      <td>Positional attacks</td>\n",
       "      <td>1st half</td>\n",
       "      <td>Ryoichi</td>\n",
       "      <td>Backward</td>\n",
       "      <td>0.0</td>\n",
       "      <td>0.0</td>\n",
       "      <td>0.0</td>\n",
       "      <td>0.0</td>\n",
       "      <td>0.0</td>\n",
       "      <td>0.05</td>\n",
       "      <td>0.38</td>\n",
       "      <td>NaN</td>\n",
       "      <td>NaN</td>\n",
       "      <td>NaN</td>\n",
       "      <td>NaN</td>\n",
       "      <td>NaN</td>\n",
       "      <td>NaN</td>\n",
       "      <td>NaN</td>\n",
       "      <td>NaN</td>\n",
       "    </tr>\n",
       "    <tr>\n",
       "      <th>3</th>\n",
       "      <td>ID_ZZKYYPVY</td>\n",
       "      <td>Player_J0V7B0YE</td>\n",
       "      <td>4.0</td>\n",
       "      <td>39.5</td>\n",
       "      <td>33.0</td>\n",
       "      <td>Circinus</td>\n",
       "      <td>Positional attacks</td>\n",
       "      <td>1st half</td>\n",
       "      <td>Ryoichi</td>\n",
       "      <td>Backward</td>\n",
       "      <td>0.0</td>\n",
       "      <td>0.0</td>\n",
       "      <td>0.0</td>\n",
       "      <td>0.0</td>\n",
       "      <td>0.0</td>\n",
       "      <td>0.07</td>\n",
       "      <td>0.40</td>\n",
       "      <td>NaN</td>\n",
       "      <td>NaN</td>\n",
       "      <td>NaN</td>\n",
       "      <td>NaN</td>\n",
       "      <td>NaN</td>\n",
       "      <td>NaN</td>\n",
       "      <td>NaN</td>\n",
       "      <td>NaN</td>\n",
       "    </tr>\n",
       "    <tr>\n",
       "      <th>4</th>\n",
       "      <td>ID_ZZKYYPVY</td>\n",
       "      <td>Player_J0V7B0YE</td>\n",
       "      <td>5.0</td>\n",
       "      <td>39.5</td>\n",
       "      <td>33.0</td>\n",
       "      <td>Circinus</td>\n",
       "      <td>Inaccurate passes</td>\n",
       "      <td>1st half</td>\n",
       "      <td>Ryoichi</td>\n",
       "      <td>Backward</td>\n",
       "      <td>0.0</td>\n",
       "      <td>0.0</td>\n",
       "      <td>0.0</td>\n",
       "      <td>1.0</td>\n",
       "      <td>1.0</td>\n",
       "      <td>0.07</td>\n",
       "      <td>0.40</td>\n",
       "      <td>NaN</td>\n",
       "      <td>NaN</td>\n",
       "      <td>NaN</td>\n",
       "      <td>NaN</td>\n",
       "      <td>NaN</td>\n",
       "      <td>NaN</td>\n",
       "      <td>NaN</td>\n",
       "      <td>NaN</td>\n",
       "    </tr>\n",
       "  </tbody>\n",
       "</table>\n",
       "</div>"
      ],
      "text/plain": [
       "       Game_ID        Player_ID   id     X     Y      Team  \\\n",
       "0  ID_ZZKYYPVY  Player_O7HO1NOB  1.0  52.5  34.0  Circinus   \n",
       "1  ID_ZZKYYPVY  Player_O7HO1NOB  2.0  52.5  34.0  Circinus   \n",
       "2  ID_ZZKYYPVY  Player_J0V7B0YE  3.0  37.0  32.7  Circinus   \n",
       "3  ID_ZZKYYPVY  Player_J0V7B0YE  4.0  39.5  33.0  Circinus   \n",
       "4  ID_ZZKYYPVY  Player_J0V7B0YE  5.0  39.5  33.0  Circinus   \n",
       "\n",
       "               Action      Half  Manager Opposition_Team  Shots  SoT  \\\n",
       "0     Accurate passes  1st half  Ryoichi        Backward    0.0  0.0   \n",
       "1  Positional attacks  1st half  Ryoichi        Backward    0.0  0.0   \n",
       "2  Positional attacks  1st half  Ryoichi        Backward    0.0  0.0   \n",
       "3  Positional attacks  1st half  Ryoichi        Backward    0.0  0.0   \n",
       "4   Inaccurate passes  1st half  Ryoichi        Backward    0.0  0.0   \n",
       "\n",
       "   Accurate passes  Inaccurate passes  Passes  Start_minutes  End_minutes  \\\n",
       "0              1.0                0.0     1.0           0.03         0.37   \n",
       "1              0.0                0.0     0.0           0.03         0.37   \n",
       "2              0.0                0.0     0.0           0.05         0.38   \n",
       "3              0.0                0.0     0.0           0.07         0.40   \n",
       "4              0.0                1.0     1.0           0.07         0.40   \n",
       "\n",
       "  next_player next_action  next_x  next_y  event_id next_team  next_event_id  \\\n",
       "0         NaN         NaN     NaN     NaN       NaN       NaN            NaN   \n",
       "1         NaN         NaN     NaN     NaN       NaN       NaN            NaN   \n",
       "2         NaN         NaN     NaN     NaN       NaN       NaN            NaN   \n",
       "3         NaN         NaN     NaN     NaN       NaN       NaN            NaN   \n",
       "4         NaN         NaN     NaN     NaN       NaN       NaN            NaN   \n",
       "\n",
       "   xt_value  \n",
       "0       NaN  \n",
       "1       NaN  \n",
       "2       NaN  \n",
       "3       NaN  \n",
       "4       NaN  "
      ]
     },
     "execution_count": 7,
     "metadata": {},
     "output_type": "execute_result"
    }
   ],
   "source": [
    "game_statistics.head()"
   ]
  },
  {
   "cell_type": "code",
   "execution_count": 8,
   "id": "792c7622",
   "metadata": {},
   "outputs": [
    {
     "data": {
      "text/plain": [
       "((412, 7), (234, 6), (2428101, 25))"
      ]
     },
     "execution_count": 8,
     "metadata": {},
     "output_type": "execute_result"
    }
   ],
   "source": [
    "Train.shape, Test.shape, game_statistics.shape"
   ]
  },
  {
   "cell_type": "code",
   "execution_count": null,
   "id": "4df9e4ab",
   "metadata": {},
   "outputs": [],
   "source": []
  },
  {
   "cell_type": "markdown",
   "id": "a9428a56",
   "metadata": {},
   "source": [
    "### Data EDA and Visualisation.\n",
    "\n",
    "- Lets analyze the data provided by anaswering some few questions"
   ]
  },
  {
   "cell_type": "markdown",
   "id": "e773f03c",
   "metadata": {},
   "source": [
    "#### How many seasons are in train and test ?"
   ]
  },
  {
   "cell_type": "code",
   "execution_count": 9,
   "id": "aa1568cc",
   "metadata": {},
   "outputs": [
    {
     "name": "stderr",
     "output_type": "stream",
     "text": [
      "/opt/homebrew/lib/python3.9/site-packages/seaborn/_decorators.py:36: FutureWarning: Pass the following variable as a keyword arg: x. From version 0.12, the only valid positional argument will be `data`, and passing other arguments without an explicit keyword will result in an error or misinterpretation.\n",
      "  warnings.warn(\n"
     ]
    },
    {
     "data": {
      "text/plain": [
       "<AxesSubplot:xlabel='Season', ylabel='count'>"
      ]
     },
     "execution_count": 9,
     "metadata": {},
     "output_type": "execute_result"
    },
    {
     "data": {
      "image/png": "[encoded data removed]",
      "text/plain": [
       "<Figure size 432x288 with 1 Axes>"
      ]
     },
     "metadata": {
      "needs_background": "light"
     },
     "output_type": "display_data"
    }
   ],
   "source": [
    "sns.countplot(Train[\"Season\"])"
   ]
  },
  {
   "cell_type": "code",
   "execution_count": 10,
   "id": "f04c6a4e",
   "metadata": {},
   "outputs": [
    {
     "name": "stderr",
     "output_type": "stream",
     "text": [
      "/opt/homebrew/lib/python3.9/site-packages/seaborn/_decorators.py:36: FutureWarning: Pass the following variable as a keyword arg: x. From version 0.12, the only valid positional argument will be `data`, and passing other arguments without an explicit keyword will result in an error or misinterpretation.\n",
      "  warnings.warn(\n"
     ]
    },
    {
     "data": {
      "text/plain": [
       "<AxesSubplot:xlabel='Season', ylabel='count'>"
      ]
     },
     "execution_count": 10,
     "metadata": {},
     "output_type": "execute_result"
    },
    {
     "data": {
      "image/png": "[encoded data removed]",
      "text/plain": [
       "<Figure size 432x288 with 1 Axes>"
      ]
     },
     "metadata": {
      "needs_background": "light"
     },
     "output_type": "display_data"
    }
   ],
   "source": [
    "sns.countplot(Test[\"Season\"])"
   ]
  },
  {
   "cell_type": "markdown",
   "id": "15b370da",
   "metadata": {},
   "source": [
    "- We can see that 2 seasons are provided in the training data while one season is provided in the the test"
   ]
  },
  {
   "cell_type": "markdown",
   "id": "034c3773",
   "metadata": {},
   "source": [
    "#### How many unique match IDs are provided?\n",
    "\n",
    "- From a football perspective, can you find out what's a match, are matches specific to every season?"
   ]
  },
  {
   "cell_type": "code",
   "execution_count": 11,
   "id": "d237ca8a",
   "metadata": {},
   "outputs": [
    {
     "data": {
      "text/plain": [
       "224"
      ]
     },
     "execution_count": 11,
     "metadata": {},
     "output_type": "execute_result"
    }
   ],
   "source": [
    "Train.Match_ID.nunique()"
   ]
  },
  {
   "cell_type": "code",
   "execution_count": 12,
   "id": "afb9ad72",
   "metadata": {},
   "outputs": [
    {
     "data": {
      "text/plain": [
       "213"
      ]
     },
     "execution_count": 12,
     "metadata": {},
     "output_type": "execute_result"
    }
   ],
   "source": [
    "Test.Match_ID.nunique()"
   ]
  },
  {
   "cell_type": "markdown",
   "id": "0f0062da",
   "metadata": {},
   "source": [
    "#### How many games were played in train seasons and test seasons?"
   ]
  },
  {
   "cell_type": "code",
   "execution_count": 13,
   "id": "2db047d7",
   "metadata": {},
   "outputs": [
    {
     "data": {
      "text/plain": [
       "412"
      ]
     },
     "execution_count": 13,
     "metadata": {},
     "output_type": "execute_result"
    }
   ],
   "source": [
    "Train.Game_ID.nunique()"
   ]
  },
  {
   "cell_type": "code",
   "execution_count": 14,
   "id": "ebcdbd9e",
   "metadata": {},
   "outputs": [
    {
     "data": {
      "text/plain": [
       "234"
      ]
     },
     "execution_count": 14,
     "metadata": {},
     "output_type": "execute_result"
    }
   ],
   "source": [
    "Test.Game_ID.nunique()"
   ]
  },
  {
   "cell_type": "markdown",
   "id": "746c4cd8",
   "metadata": {},
   "source": [
    "#### How many teams were away and home?"
   ]
  },
  {
   "cell_type": "code",
   "execution_count": 15,
   "id": "525f5bbb",
   "metadata": {},
   "outputs": [
    {
     "data": {
      "text/plain": [
       "19"
      ]
     },
     "execution_count": 15,
     "metadata": {},
     "output_type": "execute_result"
    }
   ],
   "source": [
    "Train[\"Home Team\"].nunique()"
   ]
  },
  {
   "cell_type": "code",
   "execution_count": 16,
   "id": "13fddc7e",
   "metadata": {},
   "outputs": [
    {
     "name": "stderr",
     "output_type": "stream",
     "text": [
      "/opt/homebrew/lib/python3.9/site-packages/seaborn/_decorators.py:36: FutureWarning: Pass the following variable as a keyword arg: x. From version 0.12, the only valid positional argument will be `data`, and passing other arguments without an explicit keyword will result in an error or misinterpretation.\n",
      "  warnings.warn(\n"
     ]
    },
    {
     "data": {
      "text/plain": [
       "<AxesSubplot:xlabel='Home Team', ylabel='count'>"
      ]
     },
     "execution_count": 16,
     "metadata": {},
     "output_type": "execute_result"
    },
    {
     "data": {
      "image/png": "[encoded data removed]",
      "text/plain": [
       "<Figure size 1800x504 with 1 Axes>"
      ]
     },
     "metadata": {
      "needs_background": "light"
     },
     "output_type": "display_data"
    }
   ],
   "source": [
    "plt.figure(figsize=(25,7))\n",
    "sns.countplot(Train[\"Home Team\"])"
   ]
  },
  {
   "cell_type": "code",
   "execution_count": 17,
   "id": "4a867ea4",
   "metadata": {},
   "outputs": [
    {
     "data": {
      "text/plain": [
       "19"
      ]
     },
     "execution_count": 17,
     "metadata": {},
     "output_type": "execute_result"
    }
   ],
   "source": [
    "Train[\"Away Team\"].nunique()"
   ]
  },
  {
   "cell_type": "code",
   "execution_count": 18,
   "id": "4cb1ff5a",
   "metadata": {},
   "outputs": [
    {
     "name": "stderr",
     "output_type": "stream",
     "text": [
      "/opt/homebrew/lib/python3.9/site-packages/seaborn/_decorators.py:36: FutureWarning: Pass the following variable as a keyword arg: x. From version 0.12, the only valid positional argument will be `data`, and passing other arguments without an explicit keyword will result in an error or misinterpretation.\n",
      "  warnings.warn(\n"
     ]
    },
    {
     "data": {
      "text/plain": [
       "<AxesSubplot:xlabel='Away Team', ylabel='count'>"
      ]
     },
     "execution_count": 18,
     "metadata": {},
     "output_type": "execute_result"
    },
    {
     "data": {
      "image/png": "[encoded data removed]",
      "text/plain": [
       "<Figure size 1800x504 with 1 Axes>"
      ]
     },
     "metadata": {
      "needs_background": "light"
     },
     "output_type": "display_data"
    }
   ],
   "source": [
    "plt.figure(figsize=(25,7))\n",
    "sns.countplot(Train[\"Away Team\"])"
   ]
  },
  {
   "cell_type": "code",
   "execution_count": 19,
   "id": "b163b312",
   "metadata": {},
   "outputs": [
    {
     "data": {
      "text/plain": [
       "16"
      ]
     },
     "execution_count": 19,
     "metadata": {},
     "output_type": "execute_result"
    }
   ],
   "source": [
    "Test[\"Home Team\"].nunique()"
   ]
  },
  {
   "cell_type": "code",
   "execution_count": 20,
   "id": "56692420",
   "metadata": {},
   "outputs": [
    {
     "name": "stderr",
     "output_type": "stream",
     "text": [
      "/opt/homebrew/lib/python3.9/site-packages/seaborn/_decorators.py:36: FutureWarning: Pass the following variable as a keyword arg: x. From version 0.12, the only valid positional argument will be `data`, and passing other arguments without an explicit keyword will result in an error or misinterpretation.\n",
      "  warnings.warn(\n"
     ]
    },
    {
     "data": {
      "text/plain": [
       "<AxesSubplot:xlabel='Home Team', ylabel='count'>"
      ]
     },
     "execution_count": 20,
     "metadata": {},
     "output_type": "execute_result"
    },
    {
     "data": {
      "image/png": "[encoded data removed]",
      "text/plain": [
       "<Figure size 1800x504 with 1 Axes>"
      ]
     },
     "metadata": {
      "needs_background": "light"
     },
     "output_type": "display_data"
    }
   ],
   "source": [
    "plt.figure(figsize=(25,7))\n",
    "sns.countplot(Test[\"Home Team\"])"
   ]
  },
  {
   "cell_type": "code",
   "execution_count": 21,
   "id": "fd83351e",
   "metadata": {},
   "outputs": [
    {
     "data": {
      "text/plain": [
       "16"
      ]
     },
     "execution_count": 21,
     "metadata": {},
     "output_type": "execute_result"
    }
   ],
   "source": [
    "Test[\"Away Team\"].nunique()"
   ]
  },
  {
   "cell_type": "code",
   "execution_count": 22,
   "id": "9b62ab09",
   "metadata": {},
   "outputs": [
    {
     "name": "stderr",
     "output_type": "stream",
     "text": [
      "/opt/homebrew/lib/python3.9/site-packages/seaborn/_decorators.py:36: FutureWarning: Pass the following variable as a keyword arg: x. From version 0.12, the only valid positional argument will be `data`, and passing other arguments without an explicit keyword will result in an error or misinterpretation.\n",
      "  warnings.warn(\n"
     ]
    },
    {
     "data": {
      "text/plain": [
       "<AxesSubplot:xlabel='Away Team', ylabel='count'>"
      ]
     },
     "execution_count": 22,
     "metadata": {},
     "output_type": "execute_result"
    },
    {
     "data": {
      "image/png": "[encoded data removed]",
      "text/plain": [
       "<Figure size 1800x504 with 1 Axes>"
      ]
     },
     "metadata": {
      "needs_background": "light"
     },
     "output_type": "display_data"
    }
   ],
   "source": [
    "plt.figure(figsize=(25,7))\n",
    "sns.countplot(Test[\"Away Team\"])"
   ]
  },
  {
   "cell_type": "markdown",
   "id": "077e2eb2",
   "metadata": {},
   "source": [
    "- We can see that the number of teams in Home and away are equal in both cases, however the test count of the teams is more balance than the train, could this be as a result of 1 season in test and 2 seasons in the train? For the train can you countplot per season?"
   ]
  },
  {
   "cell_type": "markdown",
   "id": "85942183",
   "metadata": {},
   "source": [
    "#### Did the team Win, Lose or Draw?\n",
    "\n",
    "- Let's look at the target column, the reason for creating our machine leaning model, the goal of every footbal game is to determine the winner"
   ]
  },
  {
   "cell_type": "code",
   "execution_count": 23,
   "id": "4355ddb1",
   "metadata": {},
   "outputs": [
    {
     "data": {
      "text/plain": [
       "3"
      ]
     },
     "execution_count": 23,
     "metadata": {},
     "output_type": "execute_result"
    }
   ],
   "source": [
    "Train[\"Score\"].nunique()"
   ]
  },
  {
   "cell_type": "code",
   "execution_count": 24,
   "id": "583e321b",
   "metadata": {},
   "outputs": [
    {
     "name": "stderr",
     "output_type": "stream",
     "text": [
      "/opt/homebrew/lib/python3.9/site-packages/seaborn/_decorators.py:36: FutureWarning: Pass the following variable as a keyword arg: x. From version 0.12, the only valid positional argument will be `data`, and passing other arguments without an explicit keyword will result in an error or misinterpretation.\n",
      "  warnings.warn(\n"
     ]
    },
    {
     "data": {
      "text/plain": [
       "<AxesSubplot:xlabel='Score', ylabel='count'>"
      ]
     },
     "execution_count": 24,
     "metadata": {},
     "output_type": "execute_result"
    },
    {
     "data": {
      "image/png": "[encoded data removed]",
      "text/plain": [
       "<Figure size 432x288 with 1 Axes>"
      ]
     },
     "metadata": {
      "needs_background": "light"
     },
     "output_type": "display_data"
    }
   ],
   "source": [
    "sns.countplot(Train[\"Score\"])"
   ]
  },
  {
   "cell_type": "markdown",
   "id": "04309d94",
   "metadata": {},
   "source": [
    "We have 3 classifications, did the away team win, did both teams draw or did the home team win? We can see that in most cases the home team won. There's much more you can do with this field:\n",
    "\n",
    "    - Look at every team, the number of games played? did they win or lose, are most of their wins during home or away game?"
   ]
  },
  {
   "cell_type": "markdown",
   "id": "ca4774bc",
   "metadata": {},
   "source": [
    "- **You can do more EDAs on the game statistics file**"
   ]
  },
  {
   "cell_type": "markdown",
   "id": "64def3e9",
   "metadata": {},
   "source": [
    "### Feature Engineering and Modelling"
   ]
  },
  {
   "cell_type": "markdown",
   "id": "3474ad43",
   "metadata": {},
   "source": [
    "#### Game statistics \n",
    "\n",
    "- This file shows how the game was played from start to end, the actions of the game, which player was it passed to etc.\n",
    "- We will need to merge this with the train and test data provided."
   ]
  },
  {
   "cell_type": "code",
   "execution_count": 25,
   "id": "2dd2da40",
   "metadata": {},
   "outputs": [],
   "source": [
    "Train[\"Train\"] = 1\n",
    "Test[\"Train\"]= 0\n",
    "\n",
    "train_test = pd.concat([Train, Test])"
   ]
  },
  {
   "cell_type": "code",
   "execution_count": 26,
   "id": "ab400344",
   "metadata": {},
   "outputs": [
    {
     "data": {
      "text/plain": [
       "(646, 8)"
      ]
     },
     "execution_count": 26,
     "metadata": {},
     "output_type": "execute_result"
    }
   ],
   "source": [
    "train_test.shape"
   ]
  },
  {
   "cell_type": "code",
   "execution_count": 27,
   "id": "6989fb6f",
   "metadata": {},
   "outputs": [
    {
     "data": {
      "text/html": [
       "<div>\n",
       "<style scoped>\n",
       "    .dataframe tbody tr th:only-of-type {\n",
       "        vertical-align: middle;\n",
       "    }\n",
       "\n",
       "    .dataframe tbody tr th {\n",
       "        vertical-align: top;\n",
       "    }\n",
       "\n",
       "    .dataframe thead th {\n",
       "        text-align: right;\n",
       "    }\n",
       "</style>\n",
       "<table border=\"1\" class=\"dataframe\">\n",
       "  <thead>\n",
       "    <tr style=\"text-align: right;\">\n",
       "      <th></th>\n",
       "      <th>Date</th>\n",
       "      <th>Season</th>\n",
       "      <th>Match_ID</th>\n",
       "      <th>Game_ID</th>\n",
       "      <th>Home Team</th>\n",
       "      <th>Away Team</th>\n",
       "      <th>Score</th>\n",
       "      <th>Train</th>\n",
       "    </tr>\n",
       "  </thead>\n",
       "  <tbody>\n",
       "    <tr>\n",
       "      <th>0</th>\n",
       "      <td>2017-02-15</td>\n",
       "      <td>1</td>\n",
       "      <td>1.0</td>\n",
       "      <td>ID_KAG4KAE9</td>\n",
       "      <td>Antennae</td>\n",
       "      <td>Andromeda</td>\n",
       "      <td>Away win</td>\n",
       "      <td>1</td>\n",
       "    </tr>\n",
       "    <tr>\n",
       "      <th>1</th>\n",
       "      <td>2016-09-14</td>\n",
       "      <td>1</td>\n",
       "      <td>12.0</td>\n",
       "      <td>ID_T7H1XN5Z</td>\n",
       "      <td>Andromeda</td>\n",
       "      <td>Antennae</td>\n",
       "      <td>Draw</td>\n",
       "      <td>1</td>\n",
       "    </tr>\n",
       "    <tr>\n",
       "      <th>2</th>\n",
       "      <td>2016-12-12</td>\n",
       "      <td>1</td>\n",
       "      <td>13.0</td>\n",
       "      <td>ID_O1P9FGN4</td>\n",
       "      <td>Andromeda</td>\n",
       "      <td>Butterfly</td>\n",
       "      <td>Away win</td>\n",
       "      <td>1</td>\n",
       "    </tr>\n",
       "  </tbody>\n",
       "</table>\n",
       "</div>"
      ],
      "text/plain": [
       "         Date  Season  Match_ID      Game_ID  Home Team  Away Team     Score  \\\n",
       "0  2017-02-15       1       1.0  ID_KAG4KAE9   Antennae  Andromeda  Away win   \n",
       "1  2016-09-14       1      12.0  ID_T7H1XN5Z  Andromeda   Antennae      Draw   \n",
       "2  2016-12-12       1      13.0  ID_O1P9FGN4  Andromeda  Butterfly  Away win   \n",
       "\n",
       "   Train  \n",
       "0      1  \n",
       "1      1  \n",
       "2      1  "
      ]
     },
     "execution_count": 27,
     "metadata": {},
     "output_type": "execute_result"
    }
   ],
   "source": [
    "train_test.head(3)"
   ]
  },
  {
   "cell_type": "code",
   "execution_count": 28,
   "id": "ff37bea7",
   "metadata": {},
   "outputs": [
    {
     "data": {
      "text/html": [
       "<div>\n",
       "<style scoped>\n",
       "    .dataframe tbody tr th:only-of-type {\n",
       "        vertical-align: middle;\n",
       "    }\n",
       "\n",
       "    .dataframe tbody tr th {\n",
       "        vertical-align: top;\n",
       "    }\n",
       "\n",
       "    .dataframe thead th {\n",
       "        text-align: right;\n",
       "    }\n",
       "</style>\n",
       "<table border=\"1\" class=\"dataframe\">\n",
       "  <thead>\n",
       "    <tr style=\"text-align: right;\">\n",
       "      <th></th>\n",
       "      <th>Game_ID</th>\n",
       "      <th>Player_ID</th>\n",
       "      <th>id</th>\n",
       "      <th>X</th>\n",
       "      <th>Y</th>\n",
       "      <th>Team</th>\n",
       "      <th>Action</th>\n",
       "      <th>Half</th>\n",
       "      <th>Manager</th>\n",
       "      <th>Opposition_Team</th>\n",
       "      <th>Shots</th>\n",
       "      <th>SoT</th>\n",
       "      <th>Accurate passes</th>\n",
       "      <th>Inaccurate passes</th>\n",
       "      <th>Passes</th>\n",
       "      <th>Start_minutes</th>\n",
       "      <th>End_minutes</th>\n",
       "      <th>next_player</th>\n",
       "      <th>next_action</th>\n",
       "      <th>next_x</th>\n",
       "      <th>next_y</th>\n",
       "      <th>event_id</th>\n",
       "      <th>next_team</th>\n",
       "      <th>next_event_id</th>\n",
       "      <th>xt_value</th>\n",
       "    </tr>\n",
       "  </thead>\n",
       "  <tbody>\n",
       "    <tr>\n",
       "      <th>0</th>\n",
       "      <td>ID_ZZKYYPVY</td>\n",
       "      <td>Player_O7HO1NOB</td>\n",
       "      <td>1.0</td>\n",
       "      <td>52.5</td>\n",
       "      <td>34.0</td>\n",
       "      <td>Circinus</td>\n",
       "      <td>Accurate passes</td>\n",
       "      <td>1st half</td>\n",
       "      <td>Ryoichi</td>\n",
       "      <td>Backward</td>\n",
       "      <td>0.0</td>\n",
       "      <td>0.0</td>\n",
       "      <td>1.0</td>\n",
       "      <td>0.0</td>\n",
       "      <td>1.0</td>\n",
       "      <td>0.03</td>\n",
       "      <td>0.37</td>\n",
       "      <td>NaN</td>\n",
       "      <td>NaN</td>\n",
       "      <td>NaN</td>\n",
       "      <td>NaN</td>\n",
       "      <td>NaN</td>\n",
       "      <td>NaN</td>\n",
       "      <td>NaN</td>\n",
       "      <td>NaN</td>\n",
       "    </tr>\n",
       "    <tr>\n",
       "      <th>1</th>\n",
       "      <td>ID_ZZKYYPVY</td>\n",
       "      <td>Player_O7HO1NOB</td>\n",
       "      <td>2.0</td>\n",
       "      <td>52.5</td>\n",
       "      <td>34.0</td>\n",
       "      <td>Circinus</td>\n",
       "      <td>Positional attacks</td>\n",
       "      <td>1st half</td>\n",
       "      <td>Ryoichi</td>\n",
       "      <td>Backward</td>\n",
       "      <td>0.0</td>\n",
       "      <td>0.0</td>\n",
       "      <td>0.0</td>\n",
       "      <td>0.0</td>\n",
       "      <td>0.0</td>\n",
       "      <td>0.03</td>\n",
       "      <td>0.37</td>\n",
       "      <td>NaN</td>\n",
       "      <td>NaN</td>\n",
       "      <td>NaN</td>\n",
       "      <td>NaN</td>\n",
       "      <td>NaN</td>\n",
       "      <td>NaN</td>\n",
       "      <td>NaN</td>\n",
       "      <td>NaN</td>\n",
       "    </tr>\n",
       "    <tr>\n",
       "      <th>2</th>\n",
       "      <td>ID_ZZKYYPVY</td>\n",
       "      <td>Player_J0V7B0YE</td>\n",
       "      <td>3.0</td>\n",
       "      <td>37.0</td>\n",
       "      <td>32.7</td>\n",
       "      <td>Circinus</td>\n",
       "      <td>Positional attacks</td>\n",
       "      <td>1st half</td>\n",
       "      <td>Ryoichi</td>\n",
       "      <td>Backward</td>\n",
       "      <td>0.0</td>\n",
       "      <td>0.0</td>\n",
       "      <td>0.0</td>\n",
       "      <td>0.0</td>\n",
       "      <td>0.0</td>\n",
       "      <td>0.05</td>\n",
       "      <td>0.38</td>\n",
       "      <td>NaN</td>\n",
       "      <td>NaN</td>\n",
       "      <td>NaN</td>\n",
       "      <td>NaN</td>\n",
       "      <td>NaN</td>\n",
       "      <td>NaN</td>\n",
       "      <td>NaN</td>\n",
       "      <td>NaN</td>\n",
       "    </tr>\n",
       "  </tbody>\n",
       "</table>\n",
       "</div>"
      ],
      "text/plain": [
       "       Game_ID        Player_ID   id     X     Y      Team  \\\n",
       "0  ID_ZZKYYPVY  Player_O7HO1NOB  1.0  52.5  34.0  Circinus   \n",
       "1  ID_ZZKYYPVY  Player_O7HO1NOB  2.0  52.5  34.0  Circinus   \n",
       "2  ID_ZZKYYPVY  Player_J0V7B0YE  3.0  37.0  32.7  Circinus   \n",
       "\n",
       "               Action      Half  Manager Opposition_Team  Shots  SoT  \\\n",
       "0     Accurate passes  1st half  Ryoichi        Backward    0.0  0.0   \n",
       "1  Positional attacks  1st half  Ryoichi        Backward    0.0  0.0   \n",
       "2  Positional attacks  1st half  Ryoichi        Backward    0.0  0.0   \n",
       "\n",
       "   Accurate passes  Inaccurate passes  Passes  Start_minutes  End_minutes  \\\n",
       "0              1.0                0.0     1.0           0.03         0.37   \n",
       "1              0.0                0.0     0.0           0.03         0.37   \n",
       "2              0.0                0.0     0.0           0.05         0.38   \n",
       "\n",
       "  next_player next_action  next_x  next_y  event_id next_team  next_event_id  \\\n",
       "0         NaN         NaN     NaN     NaN       NaN       NaN            NaN   \n",
       "1         NaN         NaN     NaN     NaN       NaN       NaN            NaN   \n",
       "2         NaN         NaN     NaN     NaN       NaN       NaN            NaN   \n",
       "\n",
       "   xt_value  \n",
       "0       NaN  \n",
       "1       NaN  \n",
       "2       NaN  "
      ]
     },
     "execution_count": 28,
     "metadata": {},
     "output_type": "execute_result"
    }
   ],
   "source": [
    "game_statistics.head(3)"
   ]
  },
  {
   "cell_type": "code",
   "execution_count": 29,
   "id": "3145c147",
   "metadata": {},
   "outputs": [],
   "source": [
    "all_data = game_statistics.merge(train_test, on=\"Game_ID\")"
   ]
  },
  {
   "cell_type": "code",
   "execution_count": 30,
   "id": "f0e05392",
   "metadata": {},
   "outputs": [
    {
     "data": {
      "text/plain": [
       "(2428101, 32)"
      ]
     },
     "execution_count": 30,
     "metadata": {},
     "output_type": "execute_result"
    }
   ],
   "source": [
    "all_data.shape"
   ]
  },
  {
   "cell_type": "code",
   "execution_count": 31,
   "id": "0a5339e0",
   "metadata": {},
   "outputs": [
    {
     "data": {
      "text/html": [
       "<div>\n",
       "<style scoped>\n",
       "    .dataframe tbody tr th:only-of-type {\n",
       "        vertical-align: middle;\n",
       "    }\n",
       "\n",
       "    .dataframe tbody tr th {\n",
       "        vertical-align: top;\n",
       "    }\n",
       "\n",
       "    .dataframe thead th {\n",
       "        text-align: right;\n",
       "    }\n",
       "</style>\n",
       "<table border=\"1\" class=\"dataframe\">\n",
       "  <thead>\n",
       "    <tr style=\"text-align: right;\">\n",
       "      <th></th>\n",
       "      <th>Game_ID</th>\n",
       "      <th>Player_ID</th>\n",
       "      <th>id</th>\n",
       "      <th>X</th>\n",
       "      <th>Y</th>\n",
       "      <th>Team</th>\n",
       "      <th>Action</th>\n",
       "      <th>Half</th>\n",
       "      <th>Manager</th>\n",
       "      <th>Opposition_Team</th>\n",
       "      <th>Shots</th>\n",
       "      <th>SoT</th>\n",
       "      <th>Accurate passes</th>\n",
       "      <th>Inaccurate passes</th>\n",
       "      <th>Passes</th>\n",
       "      <th>Start_minutes</th>\n",
       "      <th>End_minutes</th>\n",
       "      <th>next_player</th>\n",
       "      <th>next_action</th>\n",
       "      <th>next_x</th>\n",
       "      <th>next_y</th>\n",
       "      <th>event_id</th>\n",
       "      <th>next_team</th>\n",
       "      <th>next_event_id</th>\n",
       "      <th>xt_value</th>\n",
       "      <th>Date</th>\n",
       "      <th>Season</th>\n",
       "      <th>Match_ID</th>\n",
       "      <th>Home Team</th>\n",
       "      <th>Away Team</th>\n",
       "      <th>Score</th>\n",
       "      <th>Train</th>\n",
       "    </tr>\n",
       "  </thead>\n",
       "  <tbody>\n",
       "    <tr>\n",
       "      <th>0</th>\n",
       "      <td>ID_ZZKYYPVY</td>\n",
       "      <td>Player_O7HO1NOB</td>\n",
       "      <td>1.0</td>\n",
       "      <td>52.5</td>\n",
       "      <td>34.0</td>\n",
       "      <td>Circinus</td>\n",
       "      <td>Accurate passes</td>\n",
       "      <td>1st half</td>\n",
       "      <td>Ryoichi</td>\n",
       "      <td>Backward</td>\n",
       "      <td>0.0</td>\n",
       "      <td>0.0</td>\n",
       "      <td>1.0</td>\n",
       "      <td>0.0</td>\n",
       "      <td>1.0</td>\n",
       "      <td>0.03</td>\n",
       "      <td>0.37</td>\n",
       "      <td>NaN</td>\n",
       "      <td>NaN</td>\n",
       "      <td>NaN</td>\n",
       "      <td>NaN</td>\n",
       "      <td>NaN</td>\n",
       "      <td>NaN</td>\n",
       "      <td>NaN</td>\n",
       "      <td>NaN</td>\n",
       "      <td>2017-12-06</td>\n",
       "      <td>2</td>\n",
       "      <td>39.0</td>\n",
       "      <td>Backward</td>\n",
       "      <td>Circinus</td>\n",
       "      <td>Home Win</td>\n",
       "      <td>1</td>\n",
       "    </tr>\n",
       "    <tr>\n",
       "      <th>1</th>\n",
       "      <td>ID_ZZKYYPVY</td>\n",
       "      <td>Player_O7HO1NOB</td>\n",
       "      <td>2.0</td>\n",
       "      <td>52.5</td>\n",
       "      <td>34.0</td>\n",
       "      <td>Circinus</td>\n",
       "      <td>Positional attacks</td>\n",
       "      <td>1st half</td>\n",
       "      <td>Ryoichi</td>\n",
       "      <td>Backward</td>\n",
       "      <td>0.0</td>\n",
       "      <td>0.0</td>\n",
       "      <td>0.0</td>\n",
       "      <td>0.0</td>\n",
       "      <td>0.0</td>\n",
       "      <td>0.03</td>\n",
       "      <td>0.37</td>\n",
       "      <td>NaN</td>\n",
       "      <td>NaN</td>\n",
       "      <td>NaN</td>\n",
       "      <td>NaN</td>\n",
       "      <td>NaN</td>\n",
       "      <td>NaN</td>\n",
       "      <td>NaN</td>\n",
       "      <td>NaN</td>\n",
       "      <td>2017-12-06</td>\n",
       "      <td>2</td>\n",
       "      <td>39.0</td>\n",
       "      <td>Backward</td>\n",
       "      <td>Circinus</td>\n",
       "      <td>Home Win</td>\n",
       "      <td>1</td>\n",
       "    </tr>\n",
       "    <tr>\n",
       "      <th>2</th>\n",
       "      <td>ID_ZZKYYPVY</td>\n",
       "      <td>Player_J0V7B0YE</td>\n",
       "      <td>3.0</td>\n",
       "      <td>37.0</td>\n",
       "      <td>32.7</td>\n",
       "      <td>Circinus</td>\n",
       "      <td>Positional attacks</td>\n",
       "      <td>1st half</td>\n",
       "      <td>Ryoichi</td>\n",
       "      <td>Backward</td>\n",
       "      <td>0.0</td>\n",
       "      <td>0.0</td>\n",
       "      <td>0.0</td>\n",
       "      <td>0.0</td>\n",
       "      <td>0.0</td>\n",
       "      <td>0.05</td>\n",
       "      <td>0.38</td>\n",
       "      <td>NaN</td>\n",
       "      <td>NaN</td>\n",
       "      <td>NaN</td>\n",
       "      <td>NaN</td>\n",
       "      <td>NaN</td>\n",
       "      <td>NaN</td>\n",
       "      <td>NaN</td>\n",
       "      <td>NaN</td>\n",
       "      <td>2017-12-06</td>\n",
       "      <td>2</td>\n",
       "      <td>39.0</td>\n",
       "      <td>Backward</td>\n",
       "      <td>Circinus</td>\n",
       "      <td>Home Win</td>\n",
       "      <td>1</td>\n",
       "    </tr>\n",
       "    <tr>\n",
       "      <th>3</th>\n",
       "      <td>ID_ZZKYYPVY</td>\n",
       "      <td>Player_J0V7B0YE</td>\n",
       "      <td>4.0</td>\n",
       "      <td>39.5</td>\n",
       "      <td>33.0</td>\n",
       "      <td>Circinus</td>\n",
       "      <td>Positional attacks</td>\n",
       "      <td>1st half</td>\n",
       "      <td>Ryoichi</td>\n",
       "      <td>Backward</td>\n",
       "      <td>0.0</td>\n",
       "      <td>0.0</td>\n",
       "      <td>0.0</td>\n",
       "      <td>0.0</td>\n",
       "      <td>0.0</td>\n",
       "      <td>0.07</td>\n",
       "      <td>0.40</td>\n",
       "      <td>NaN</td>\n",
       "      <td>NaN</td>\n",
       "      <td>NaN</td>\n",
       "      <td>NaN</td>\n",
       "      <td>NaN</td>\n",
       "      <td>NaN</td>\n",
       "      <td>NaN</td>\n",
       "      <td>NaN</td>\n",
       "      <td>2017-12-06</td>\n",
       "      <td>2</td>\n",
       "      <td>39.0</td>\n",
       "      <td>Backward</td>\n",
       "      <td>Circinus</td>\n",
       "      <td>Home Win</td>\n",
       "      <td>1</td>\n",
       "    </tr>\n",
       "    <tr>\n",
       "      <th>4</th>\n",
       "      <td>ID_ZZKYYPVY</td>\n",
       "      <td>Player_J0V7B0YE</td>\n",
       "      <td>5.0</td>\n",
       "      <td>39.5</td>\n",
       "      <td>33.0</td>\n",
       "      <td>Circinus</td>\n",
       "      <td>Inaccurate passes</td>\n",
       "      <td>1st half</td>\n",
       "      <td>Ryoichi</td>\n",
       "      <td>Backward</td>\n",
       "      <td>0.0</td>\n",
       "      <td>0.0</td>\n",
       "      <td>0.0</td>\n",
       "      <td>1.0</td>\n",
       "      <td>1.0</td>\n",
       "      <td>0.07</td>\n",
       "      <td>0.40</td>\n",
       "      <td>NaN</td>\n",
       "      <td>NaN</td>\n",
       "      <td>NaN</td>\n",
       "      <td>NaN</td>\n",
       "      <td>NaN</td>\n",
       "      <td>NaN</td>\n",
       "      <td>NaN</td>\n",
       "      <td>NaN</td>\n",
       "      <td>2017-12-06</td>\n",
       "      <td>2</td>\n",
       "      <td>39.0</td>\n",
       "      <td>Backward</td>\n",
       "      <td>Circinus</td>\n",
       "      <td>Home Win</td>\n",
       "      <td>1</td>\n",
       "    </tr>\n",
       "  </tbody>\n",
       "</table>\n",
       "</div>"
      ],
      "text/plain": [
       "       Game_ID        Player_ID   id     X     Y      Team  \\\n",
       "0  ID_ZZKYYPVY  Player_O7HO1NOB  1.0  52.5  34.0  Circinus   \n",
       "1  ID_ZZKYYPVY  Player_O7HO1NOB  2.0  52.5  34.0  Circinus   \n",
       "2  ID_ZZKYYPVY  Player_J0V7B0YE  3.0  37.0  32.7  Circinus   \n",
       "3  ID_ZZKYYPVY  Player_J0V7B0YE  4.0  39.5  33.0  Circinus   \n",
       "4  ID_ZZKYYPVY  Player_J0V7B0YE  5.0  39.5  33.0  Circinus   \n",
       "\n",
       "               Action      Half  Manager Opposition_Team  Shots  SoT  \\\n",
       "0     Accurate passes  1st half  Ryoichi        Backward    0.0  0.0   \n",
       "1  Positional attacks  1st half  Ryoichi        Backward    0.0  0.0   \n",
       "2  Positional attacks  1st half  Ryoichi        Backward    0.0  0.0   \n",
       "3  Positional attacks  1st half  Ryoichi        Backward    0.0  0.0   \n",
       "4   Inaccurate passes  1st half  Ryoichi        Backward    0.0  0.0   \n",
       "\n",
       "   Accurate passes  Inaccurate passes  Passes  Start_minutes  End_minutes  \\\n",
       "0              1.0                0.0     1.0           0.03         0.37   \n",
       "1              0.0                0.0     0.0           0.03         0.37   \n",
       "2              0.0                0.0     0.0           0.05         0.38   \n",
       "3              0.0                0.0     0.0           0.07         0.40   \n",
       "4              0.0                1.0     1.0           0.07         0.40   \n",
       "\n",
       "  next_player next_action  next_x  next_y  event_id next_team  next_event_id  \\\n",
       "0         NaN         NaN     NaN     NaN       NaN       NaN            NaN   \n",
       "1         NaN         NaN     NaN     NaN       NaN       NaN            NaN   \n",
       "2         NaN         NaN     NaN     NaN       NaN       NaN            NaN   \n",
       "3         NaN         NaN     NaN     NaN       NaN       NaN            NaN   \n",
       "4         NaN         NaN     NaN     NaN       NaN       NaN            NaN   \n",
       "\n",
       "   xt_value        Date  Season  Match_ID Home Team Away Team     Score  Train  \n",
       "0       NaN  2017-12-06       2      39.0  Backward  Circinus  Home Win      1  \n",
       "1       NaN  2017-12-06       2      39.0  Backward  Circinus  Home Win      1  \n",
       "2       NaN  2017-12-06       2      39.0  Backward  Circinus  Home Win      1  \n",
       "3       NaN  2017-12-06       2      39.0  Backward  Circinus  Home Win      1  \n",
       "4       NaN  2017-12-06       2      39.0  Backward  Circinus  Home Win      1  "
      ]
     },
     "execution_count": 31,
     "metadata": {},
     "output_type": "execute_result"
    }
   ],
   "source": [
    "all_data.head()"
   ]
  },
  {
   "cell_type": "markdown",
   "id": "c9d32b0d",
   "metadata": {},
   "source": [
    "#### How to deal with column that are categorical?\n",
    "\n",
    "- There are various ways of doing this:-\n",
    "\n",
    "    - One hot encoding \n",
    "    - label encoding etc\n",
    "    \n",
    "    \n",
    "- In this starter nb, I'll use label encoding, you can try other other ways"
   ]
  },
  {
   "cell_type": "code",
   "execution_count": 32,
   "id": "448b618f",
   "metadata": {},
   "outputs": [],
   "source": [
    "le = preprocessing.LabelEncoder()\n",
    "\n",
    "all_data[\"Game_ID\"] = le.fit_transform(all_data[\"Game_ID\"])\n",
    "game_mapping = dict(zip(le.classes_, range(len(le.classes_))))\n",
    "all_data[\"Player_ID\"] = le.fit_transform(all_data[\"Player_ID\"])"
   ]
  },
  {
   "cell_type": "markdown",
   "id": "38fad4e5",
   "metadata": {},
   "source": [
    "- For the teams ensure they are transformed the same, you do not want a scenario where team Circinus is mapped as 1 on one column and mapped as 2 on another column, this will be inconsistent and will affect the model results"
   ]
  },
  {
   "cell_type": "code",
   "execution_count": 33,
   "id": "a361abaf",
   "metadata": {},
   "outputs": [],
   "source": [
    "all_data[\"Team\"] = le.fit_transform(all_data[\"Team\"])\n",
    "\n",
    "mapping = dict(zip(le.classes_, range(len(le.classes_))))"
   ]
  },
  {
   "cell_type": "code",
   "execution_count": 34,
   "id": "8bf317c8",
   "metadata": {},
   "outputs": [
    {
     "data": {
      "text/plain": [
       "{'Andromeda': 0,\n",
       " 'Antennae': 1,\n",
       " 'Backward': 2,\n",
       " 'Butterfly': 3,\n",
       " 'Cartwheel': 4,\n",
       " 'Cigar': 5,\n",
       " 'Circinus': 6,\n",
       " 'Coma Pinwheel': 7,\n",
       " 'Comet': 8,\n",
       " 'Cosmos Redshift 7': 9,\n",
       " 'Eye of Sauron': 10,\n",
       " 'Fireworks': 11,\n",
       " 'Malin 1': 12,\n",
       " 'Medusa Merger': 13,\n",
       " 'Milky Way': 14,\n",
       " 'Needle': 15,\n",
       " 'Sculptor': 16,\n",
       " 'Sombrero': 17,\n",
       " 'Sunflower': 18,\n",
       " 'Tadpole': 19,\n",
       " 'Triangulum': 20,\n",
       " 'Whirlpool': 21}"
      ]
     },
     "execution_count": 34,
     "metadata": {},
     "output_type": "execute_result"
    }
   ],
   "source": [
    "mapping"
   ]
  },
  {
   "cell_type": "code",
   "execution_count": 35,
   "id": "8b42e9c7",
   "metadata": {},
   "outputs": [],
   "source": [
    "all_data[\"Opposition_Team\"] = all_data[\"Opposition_Team\"].apply(lambda x: mapping[x])\n",
    "all_data[\"Home Team\"] = all_data[\"Home Team\"].apply(lambda x: mapping[x])\n",
    "all_data[\"Away Team\"] = all_data[\"Away Team\"].apply(lambda x: mapping[x])"
   ]
  },
  {
   "cell_type": "code",
   "execution_count": 36,
   "id": "759d5fc4",
   "metadata": {},
   "outputs": [],
   "source": [
    "all_data[\"Action\"] = le.fit_transform(all_data[\"Action\"])\n",
    "all_data[\"Half\"] = le.fit_transform(all_data[\"Half\"])\n",
    "all_data[\"Manager\"] = le.fit_transform(all_data[\"Manager\"])"
   ]
  },
  {
   "cell_type": "markdown",
   "id": "d227765e",
   "metadata": {},
   "source": [
    "- For this nb, I'll drop most of the columns that have alot on NAN values, you can choose to fill those NAN values since the columns might be worth including in the modeling"
   ]
  },
  {
   "cell_type": "code",
   "execution_count": 37,
   "id": "59c58fe2",
   "metadata": {},
   "outputs": [],
   "source": [
    "all_data.drop([\"next_player\", \"next_action\", \"next_x\", \"next_y\", \"event_id\", \"next_team\",\n",
    "               \"next_event_id\", \"xt_value\", \"Date\"], axis=1, inplace=True)"
   ]
  },
  {
   "cell_type": "code",
   "execution_count": 38,
   "id": "c730152a",
   "metadata": {},
   "outputs": [
    {
     "name": "stderr",
     "output_type": "stream",
     "text": [
      "/var/folders/v5/s0zs7tln6bvgd_7p334kjdjr0000gn/T/ipykernel_51738/3684393416.py:2: SettingWithCopyWarning: \n",
      "A value is trying to be set on a copy of a slice from a DataFrame\n",
      "\n",
      "See the caveats in the documentation: https://pandas.pydata.org/pandas-docs/stable/user_guide/indexing.html#returning-a-view-versus-a-copy\n",
      "  Train.drop(\"Train\", axis=1, inplace=True)\n",
      "/var/folders/v5/s0zs7tln6bvgd_7p334kjdjr0000gn/T/ipykernel_51738/3684393416.py:4: SettingWithCopyWarning: \n",
      "A value is trying to be set on a copy of a slice from a DataFrame\n",
      "\n",
      "See the caveats in the documentation: https://pandas.pydata.org/pandas-docs/stable/user_guide/indexing.html#returning-a-view-versus-a-copy\n",
      "  Test.drop([\"Train\", \"Score\"], axis=1, inplace=True)\n"
     ]
    }
   ],
   "source": [
    "Train =all_data[all_data[\"Train\"] == 1]\n",
    "Train.drop(\"Train\", axis=1, inplace=True)\n",
    "Test = all_data[all_data[\"Train\"] == 0]\n",
    "Test.drop([\"Train\", \"Score\"], axis=1, inplace=True)\n",
    "Test = Test.reset_index(drop=True)"
   ]
  },
  {
   "cell_type": "code",
   "execution_count": 39,
   "id": "7dfabca9",
   "metadata": {},
   "outputs": [
    {
     "data": {
      "text/plain": [
       "((1626003, 22), (802098, 21))"
      ]
     },
     "execution_count": 39,
     "metadata": {},
     "output_type": "execute_result"
    }
   ],
   "source": [
    "Train.shape, Test.shape"
   ]
  },
  {
   "cell_type": "code",
   "execution_count": 40,
   "id": "b56f951d",
   "metadata": {},
   "outputs": [
    {
     "data": {
      "text/html": [
       "<div>\n",
       "<style scoped>\n",
       "    .dataframe tbody tr th:only-of-type {\n",
       "        vertical-align: middle;\n",
       "    }\n",
       "\n",
       "    .dataframe tbody tr th {\n",
       "        vertical-align: top;\n",
       "    }\n",
       "\n",
       "    .dataframe thead th {\n",
       "        text-align: right;\n",
       "    }\n",
       "</style>\n",
       "<table border=\"1\" class=\"dataframe\">\n",
       "  <thead>\n",
       "    <tr style=\"text-align: right;\">\n",
       "      <th></th>\n",
       "      <th>Game_ID</th>\n",
       "      <th>Player_ID</th>\n",
       "      <th>id</th>\n",
       "      <th>X</th>\n",
       "      <th>Y</th>\n",
       "      <th>Team</th>\n",
       "      <th>Action</th>\n",
       "      <th>Half</th>\n",
       "      <th>Manager</th>\n",
       "      <th>Opposition_Team</th>\n",
       "      <th>Shots</th>\n",
       "      <th>SoT</th>\n",
       "      <th>Accurate passes</th>\n",
       "      <th>Inaccurate passes</th>\n",
       "      <th>Passes</th>\n",
       "      <th>Start_minutes</th>\n",
       "      <th>End_minutes</th>\n",
       "      <th>Season</th>\n",
       "      <th>Match_ID</th>\n",
       "      <th>Home Team</th>\n",
       "      <th>Away Team</th>\n",
       "      <th>Score</th>\n",
       "    </tr>\n",
       "  </thead>\n",
       "  <tbody>\n",
       "    <tr>\n",
       "      <th>0</th>\n",
       "      <td>645</td>\n",
       "      <td>536</td>\n",
       "      <td>1.0</td>\n",
       "      <td>52.5</td>\n",
       "      <td>34.0</td>\n",
       "      <td>6</td>\n",
       "      <td>2</td>\n",
       "      <td>0</td>\n",
       "      <td>52</td>\n",
       "      <td>2</td>\n",
       "      <td>0.0</td>\n",
       "      <td>0.0</td>\n",
       "      <td>1.0</td>\n",
       "      <td>0.0</td>\n",
       "      <td>1.0</td>\n",
       "      <td>0.03</td>\n",
       "      <td>0.37</td>\n",
       "      <td>2</td>\n",
       "      <td>39.0</td>\n",
       "      <td>2</td>\n",
       "      <td>6</td>\n",
       "      <td>Home Win</td>\n",
       "    </tr>\n",
       "    <tr>\n",
       "      <th>1</th>\n",
       "      <td>645</td>\n",
       "      <td>536</td>\n",
       "      <td>2.0</td>\n",
       "      <td>52.5</td>\n",
       "      <td>34.0</td>\n",
       "      <td>6</td>\n",
       "      <td>38</td>\n",
       "      <td>0</td>\n",
       "      <td>52</td>\n",
       "      <td>2</td>\n",
       "      <td>0.0</td>\n",
       "      <td>0.0</td>\n",
       "      <td>0.0</td>\n",
       "      <td>0.0</td>\n",
       "      <td>0.0</td>\n",
       "      <td>0.03</td>\n",
       "      <td>0.37</td>\n",
       "      <td>2</td>\n",
       "      <td>39.0</td>\n",
       "      <td>2</td>\n",
       "      <td>6</td>\n",
       "      <td>Home Win</td>\n",
       "    </tr>\n",
       "  </tbody>\n",
       "</table>\n",
       "</div>"
      ],
      "text/plain": [
       "   Game_ID  Player_ID   id     X     Y  Team  Action  Half  Manager  \\\n",
       "0      645        536  1.0  52.5  34.0     6       2     0       52   \n",
       "1      645        536  2.0  52.5  34.0     6      38     0       52   \n",
       "\n",
       "   Opposition_Team  Shots  SoT  Accurate passes  Inaccurate passes  Passes  \\\n",
       "0                2    0.0  0.0              1.0                0.0     1.0   \n",
       "1                2    0.0  0.0              0.0                0.0     0.0   \n",
       "\n",
       "   Start_minutes  End_minutes  Season  Match_ID  Home Team  Away Team  \\\n",
       "0           0.03         0.37       2      39.0          2          6   \n",
       "1           0.03         0.37       2      39.0          2          6   \n",
       "\n",
       "      Score  \n",
       "0  Home Win  \n",
       "1  Home Win  "
      ]
     },
     "execution_count": 40,
     "metadata": {},
     "output_type": "execute_result"
    }
   ],
   "source": [
    "Train.head(2)"
   ]
  },
  {
   "cell_type": "code",
   "execution_count": 41,
   "id": "b5c3b70c",
   "metadata": {},
   "outputs": [
    {
     "data": {
      "text/html": [
       "<div>\n",
       "<style scoped>\n",
       "    .dataframe tbody tr th:only-of-type {\n",
       "        vertical-align: middle;\n",
       "    }\n",
       "\n",
       "    .dataframe tbody tr th {\n",
       "        vertical-align: top;\n",
       "    }\n",
       "\n",
       "    .dataframe thead th {\n",
       "        text-align: right;\n",
       "    }\n",
       "</style>\n",
       "<table border=\"1\" class=\"dataframe\">\n",
       "  <thead>\n",
       "    <tr style=\"text-align: right;\">\n",
       "      <th></th>\n",
       "      <th>Game_ID</th>\n",
       "      <th>Player_ID</th>\n",
       "      <th>id</th>\n",
       "      <th>X</th>\n",
       "      <th>Y</th>\n",
       "      <th>Team</th>\n",
       "      <th>Action</th>\n",
       "      <th>Half</th>\n",
       "      <th>Manager</th>\n",
       "      <th>Opposition_Team</th>\n",
       "      <th>Shots</th>\n",
       "      <th>SoT</th>\n",
       "      <th>Accurate passes</th>\n",
       "      <th>Inaccurate passes</th>\n",
       "      <th>Passes</th>\n",
       "      <th>Start_minutes</th>\n",
       "      <th>End_minutes</th>\n",
       "      <th>Season</th>\n",
       "      <th>Match_ID</th>\n",
       "      <th>Home Team</th>\n",
       "      <th>Away Team</th>\n",
       "    </tr>\n",
       "  </thead>\n",
       "  <tbody>\n",
       "    <tr>\n",
       "      <th>0</th>\n",
       "      <td>640</td>\n",
       "      <td>106</td>\n",
       "      <td>1.0</td>\n",
       "      <td>52.5</td>\n",
       "      <td>34.0</td>\n",
       "      <td>14</td>\n",
       "      <td>2</td>\n",
       "      <td>0</td>\n",
       "      <td>40</td>\n",
       "      <td>18</td>\n",
       "      <td>0.0</td>\n",
       "      <td>0.0</td>\n",
       "      <td>1.0</td>\n",
       "      <td>0.0</td>\n",
       "      <td>1.0</td>\n",
       "      <td>0.68</td>\n",
       "      <td>1.02</td>\n",
       "      <td>3</td>\n",
       "      <td>158.0</td>\n",
       "      <td>18</td>\n",
       "      <td>14</td>\n",
       "    </tr>\n",
       "    <tr>\n",
       "      <th>1</th>\n",
       "      <td>640</td>\n",
       "      <td>106</td>\n",
       "      <td>2.0</td>\n",
       "      <td>52.5</td>\n",
       "      <td>34.0</td>\n",
       "      <td>14</td>\n",
       "      <td>38</td>\n",
       "      <td>0</td>\n",
       "      <td>40</td>\n",
       "      <td>18</td>\n",
       "      <td>0.0</td>\n",
       "      <td>0.0</td>\n",
       "      <td>0.0</td>\n",
       "      <td>0.0</td>\n",
       "      <td>0.0</td>\n",
       "      <td>0.68</td>\n",
       "      <td>1.02</td>\n",
       "      <td>3</td>\n",
       "      <td>158.0</td>\n",
       "      <td>18</td>\n",
       "      <td>14</td>\n",
       "    </tr>\n",
       "  </tbody>\n",
       "</table>\n",
       "</div>"
      ],
      "text/plain": [
       "   Game_ID  Player_ID   id     X     Y  Team  Action  Half  Manager  \\\n",
       "0      640        106  1.0  52.5  34.0    14       2     0       40   \n",
       "1      640        106  2.0  52.5  34.0    14      38     0       40   \n",
       "\n",
       "   Opposition_Team  Shots  SoT  Accurate passes  Inaccurate passes  Passes  \\\n",
       "0               18    0.0  0.0              1.0                0.0     1.0   \n",
       "1               18    0.0  0.0              0.0                0.0     0.0   \n",
       "\n",
       "   Start_minutes  End_minutes  Season  Match_ID  Home Team  Away Team  \n",
       "0           0.68         1.02       3     158.0         18         14  \n",
       "1           0.68         1.02       3     158.0         18         14  "
      ]
     },
     "execution_count": 41,
     "metadata": {},
     "output_type": "execute_result"
    }
   ],
   "source": [
    "Test.head(2)"
   ]
  },
  {
   "cell_type": "code",
   "execution_count": 42,
   "id": "892c51d1",
   "metadata": {},
   "outputs": [
    {
     "name": "stderr",
     "output_type": "stream",
     "text": [
      "/var/folders/v5/s0zs7tln6bvgd_7p334kjdjr0000gn/T/ipykernel_51738/41342390.py:2: SettingWithCopyWarning: \n",
      "A value is trying to be set on a copy of a slice from a DataFrame.\n",
      "Try using .loc[row_indexer,col_indexer] = value instead\n",
      "\n",
      "See the caveats in the documentation: https://pandas.pydata.org/pandas-docs/stable/user_guide/indexing.html#returning-a-view-versus-a-copy\n",
      "  Train[\"Score\"] = le.fit_transform(Train[\"Score\"])\n"
     ]
    }
   ],
   "source": [
    "# to avoid nans, will map score onli in the training set\n",
    "Train[\"Score\"] = le.fit_transform(Train[\"Score\"])\n",
    "score_mapping = dict(zip(le.classes_, range(len(le.classes_))))"
   ]
  },
  {
   "cell_type": "code",
   "execution_count": 43,
   "id": "a85c02dc",
   "metadata": {},
   "outputs": [
    {
     "data": {
      "text/plain": [
       "{'Away win': 0, 'Draw': 1, 'Home Win': 2}"
      ]
     },
     "execution_count": 43,
     "metadata": {},
     "output_type": "execute_result"
    }
   ],
   "source": [
    "score_mapping"
   ]
  },
  {
   "cell_type": "markdown",
   "id": "cce9abf3",
   "metadata": {},
   "source": [
    "### Modelling\n",
    "\n",
    "- This is a classification problem that require using classification machine learning algorithms"
   ]
  },
  {
   "cell_type": "code",
   "execution_count": 44,
   "id": "096bc952",
   "metadata": {},
   "outputs": [],
   "source": [
    "X = Train.drop([\"Score\"], axis=1)\n",
    "y = Train[\"Score\"]"
   ]
  },
  {
   "cell_type": "code",
   "execution_count": 45,
   "id": "b20f8f17",
   "metadata": {},
   "outputs": [
    {
     "data": {
      "text/plain": [
       "RandomForestClassifier()"
      ]
     },
     "execution_count": 45,
     "metadata": {},
     "output_type": "execute_result"
    }
   ],
   "source": [
    "clf = RandomForestClassifier()\n",
    "clf.fit(X, y)"
   ]
  },
  {
   "cell_type": "markdown",
   "id": "07b128a9",
   "metadata": {},
   "source": [
    "- Some of the rows in test are null, I chose to fill all with 0z but you need to look at each case/column and deal with it differently"
   ]
  },
  {
   "cell_type": "code",
   "execution_count": 46,
   "id": "fc4bfbd9",
   "metadata": {},
   "outputs": [
    {
     "data": {
      "text/plain": [
       "234"
      ]
     },
     "execution_count": 46,
     "metadata": {},
     "output_type": "execute_result"
    }
   ],
   "source": [
    "Test.Game_ID.nunique()"
   ]
  },
  {
   "cell_type": "code",
   "execution_count": 47,
   "id": "7ad1f953",
   "metadata": {},
   "outputs": [],
   "source": [
    "# Test = Test[~Test.Shots.isnull()]\n",
    "Test = Test.fillna(0)"
   ]
  },
  {
   "cell_type": "code",
   "execution_count": 48,
   "id": "edb0b543",
   "metadata": {},
   "outputs": [
    {
     "data": {
      "text/plain": [
       "234"
      ]
     },
     "execution_count": 48,
     "metadata": {},
     "output_type": "execute_result"
    }
   ],
   "source": [
    "Test.Game_ID.nunique()"
   ]
  },
  {
   "cell_type": "markdown",
   "id": "0b465081",
   "metadata": {},
   "source": [
    "### Predict on the test set"
   ]
  },
  {
   "cell_type": "code",
   "execution_count": 49,
   "id": "afa317fd",
   "metadata": {},
   "outputs": [],
   "source": [
    "test_predictions  = clf.predict(Test)"
   ]
  },
  {
   "cell_type": "code",
   "execution_count": 50,
   "id": "7a035863",
   "metadata": {},
   "outputs": [],
   "source": [
    "Test[\"Score\"] = test_predictions"
   ]
  },
  {
   "cell_type": "code",
   "execution_count": 51,
   "id": "166fc65c",
   "metadata": {},
   "outputs": [
    {
     "data": {
      "text/plain": [
       "array([0, 1, 2])"
      ]
     },
     "execution_count": 51,
     "metadata": {},
     "output_type": "execute_result"
    }
   ],
   "source": [
    "Test[\"Score\"].unique()"
   ]
  },
  {
   "cell_type": "code",
   "execution_count": 52,
   "id": "d611d94d",
   "metadata": {},
   "outputs": [],
   "source": [
    "score_mapping = {value:key for key, value in score_mapping.items()}\n",
    "Test[\"Score\"] = Test[\"Score\"].apply(lambda x: score_mapping[x])"
   ]
  },
  {
   "cell_type": "code",
   "execution_count": 53,
   "id": "0461fe4a",
   "metadata": {},
   "outputs": [],
   "source": [
    "game_mapping = {value:key for key, value in game_mapping.items()}\n",
    "Test[\"Game_ID\"] = Test[\"Game_ID\"].apply(lambda x: game_mapping[x])"
   ]
  },
  {
   "cell_type": "code",
   "execution_count": 54,
   "id": "a9dbace7",
   "metadata": {},
   "outputs": [
    {
     "data": {
      "text/plain": [
       "array(['Away win', 'Draw', 'Home Win'], dtype=object)"
      ]
     },
     "execution_count": 54,
     "metadata": {},
     "output_type": "execute_result"
    }
   ],
   "source": [
    "Test[\"Score\"].unique()"
   ]
  },
  {
   "cell_type": "code",
   "execution_count": 55,
   "id": "3ff1819c",
   "metadata": {},
   "outputs": [
    {
     "data": {
      "text/html": [
       "<div>\n",
       "<style scoped>\n",
       "    .dataframe tbody tr th:only-of-type {\n",
       "        vertical-align: middle;\n",
       "    }\n",
       "\n",
       "    .dataframe tbody tr th {\n",
       "        vertical-align: top;\n",
       "    }\n",
       "\n",
       "    .dataframe thead th {\n",
       "        text-align: right;\n",
       "    }\n",
       "</style>\n",
       "<table border=\"1\" class=\"dataframe\">\n",
       "  <thead>\n",
       "    <tr style=\"text-align: right;\">\n",
       "      <th></th>\n",
       "      <th>Game_ID</th>\n",
       "      <th>Player_ID</th>\n",
       "      <th>id</th>\n",
       "      <th>X</th>\n",
       "      <th>Y</th>\n",
       "      <th>Team</th>\n",
       "      <th>Action</th>\n",
       "      <th>Half</th>\n",
       "      <th>Manager</th>\n",
       "      <th>Opposition_Team</th>\n",
       "      <th>Shots</th>\n",
       "      <th>SoT</th>\n",
       "      <th>Accurate passes</th>\n",
       "      <th>Inaccurate passes</th>\n",
       "      <th>Passes</th>\n",
       "      <th>Start_minutes</th>\n",
       "      <th>End_minutes</th>\n",
       "      <th>Season</th>\n",
       "      <th>Match_ID</th>\n",
       "      <th>Home Team</th>\n",
       "      <th>Away Team</th>\n",
       "      <th>Score</th>\n",
       "    </tr>\n",
       "  </thead>\n",
       "  <tbody>\n",
       "    <tr>\n",
       "      <th>0</th>\n",
       "      <td>ID_ZUPS2JD2</td>\n",
       "      <td>106</td>\n",
       "      <td>1.0</td>\n",
       "      <td>52.5</td>\n",
       "      <td>34.0</td>\n",
       "      <td>14</td>\n",
       "      <td>2</td>\n",
       "      <td>0</td>\n",
       "      <td>40</td>\n",
       "      <td>18</td>\n",
       "      <td>0.0</td>\n",
       "      <td>0.0</td>\n",
       "      <td>1.0</td>\n",
       "      <td>0.0</td>\n",
       "      <td>1.0</td>\n",
       "      <td>0.68</td>\n",
       "      <td>1.02</td>\n",
       "      <td>3</td>\n",
       "      <td>158.0</td>\n",
       "      <td>18</td>\n",
       "      <td>14</td>\n",
       "      <td>Away win</td>\n",
       "    </tr>\n",
       "    <tr>\n",
       "      <th>1</th>\n",
       "      <td>ID_ZUPS2JD2</td>\n",
       "      <td>106</td>\n",
       "      <td>2.0</td>\n",
       "      <td>52.5</td>\n",
       "      <td>34.0</td>\n",
       "      <td>14</td>\n",
       "      <td>38</td>\n",
       "      <td>0</td>\n",
       "      <td>40</td>\n",
       "      <td>18</td>\n",
       "      <td>0.0</td>\n",
       "      <td>0.0</td>\n",
       "      <td>0.0</td>\n",
       "      <td>0.0</td>\n",
       "      <td>0.0</td>\n",
       "      <td>0.68</td>\n",
       "      <td>1.02</td>\n",
       "      <td>3</td>\n",
       "      <td>158.0</td>\n",
       "      <td>18</td>\n",
       "      <td>14</td>\n",
       "      <td>Away win</td>\n",
       "    </tr>\n",
       "  </tbody>\n",
       "</table>\n",
       "</div>"
      ],
      "text/plain": [
       "       Game_ID  Player_ID   id     X     Y  Team  Action  Half  Manager  \\\n",
       "0  ID_ZUPS2JD2        106  1.0  52.5  34.0    14       2     0       40   \n",
       "1  ID_ZUPS2JD2        106  2.0  52.5  34.0    14      38     0       40   \n",
       "\n",
       "   Opposition_Team  Shots  SoT  Accurate passes  Inaccurate passes  Passes  \\\n",
       "0               18    0.0  0.0              1.0                0.0     1.0   \n",
       "1               18    0.0  0.0              0.0                0.0     0.0   \n",
       "\n",
       "   Start_minutes  End_minutes  Season  Match_ID  Home Team  Away Team  \\\n",
       "0           0.68         1.02       3     158.0         18         14   \n",
       "1           0.68         1.02       3     158.0         18         14   \n",
       "\n",
       "      Score  \n",
       "0  Away win  \n",
       "1  Away win  "
      ]
     },
     "execution_count": 55,
     "metadata": {},
     "output_type": "execute_result"
    }
   ],
   "source": [
    "Test.head(2)"
   ]
  },
  {
   "cell_type": "code",
   "execution_count": 56,
   "id": "225ef7d5",
   "metadata": {},
   "outputs": [],
   "source": [
    "submit = Test[[\"Game_ID\", \"Score\"]]"
   ]
  },
  {
   "cell_type": "markdown",
   "id": "cb01749f",
   "metadata": {},
   "source": [
    "- Here I'm randomly selecting the score for every unique game ID, you can choose to be creative and look a the prediction with multiple rows."
   ]
  },
  {
   "cell_type": "code",
   "execution_count": 57,
   "id": "f9feb56d",
   "metadata": {},
   "outputs": [
    {
     "name": "stderr",
     "output_type": "stream",
     "text": [
      "/var/folders/v5/s0zs7tln6bvgd_7p334kjdjr0000gn/T/ipykernel_51738/1230856750.py:1: SettingWithCopyWarning: \n",
      "A value is trying to be set on a copy of a slice from a DataFrame\n",
      "\n",
      "See the caveats in the documentation: https://pandas.pydata.org/pandas-docs/stable/user_guide/indexing.html#returning-a-view-versus-a-copy\n",
      "  submit.drop_duplicates(subset = [\"Game_ID\"], inplace=True)\n"
     ]
    }
   ],
   "source": [
    "submit.drop_duplicates(subset = [\"Game_ID\"], inplace=True)"
   ]
  },
  {
   "cell_type": "code",
   "execution_count": 58,
   "id": "92606248",
   "metadata": {},
   "outputs": [],
   "source": [
    "submit = submit.reset_index(drop=True)"
   ]
  },
  {
   "cell_type": "code",
   "execution_count": 59,
   "id": "6cb89241",
   "metadata": {},
   "outputs": [
    {
     "data": {
      "text/plain": [
       "(234, 2)"
      ]
     },
     "execution_count": 59,
     "metadata": {},
     "output_type": "execute_result"
    }
   ],
   "source": [
    "submit.shape"
   ]
  },
  {
   "cell_type": "code",
   "execution_count": 60,
   "id": "15df26f8",
   "metadata": {},
   "outputs": [
    {
     "data": {
      "text/html": [
       "<div>\n",
       "<style scoped>\n",
       "    .dataframe tbody tr th:only-of-type {\n",
       "        vertical-align: middle;\n",
       "    }\n",
       "\n",
       "    .dataframe tbody tr th {\n",
       "        vertical-align: top;\n",
       "    }\n",
       "\n",
       "    .dataframe thead th {\n",
       "        text-align: right;\n",
       "    }\n",
       "</style>\n",
       "<table border=\"1\" class=\"dataframe\">\n",
       "  <thead>\n",
       "    <tr style=\"text-align: right;\">\n",
       "      <th></th>\n",
       "      <th>Game_ID</th>\n",
       "      <th>Score</th>\n",
       "    </tr>\n",
       "  </thead>\n",
       "  <tbody>\n",
       "    <tr>\n",
       "      <th>0</th>\n",
       "      <td>ID_ZUPS2JD2</td>\n",
       "      <td>Away win</td>\n",
       "    </tr>\n",
       "    <tr>\n",
       "      <th>1</th>\n",
       "      <td>ID_ZTDZNU6I</td>\n",
       "      <td>Draw</td>\n",
       "    </tr>\n",
       "    <tr>\n",
       "      <th>2</th>\n",
       "      <td>ID_ZRZC49M1</td>\n",
       "      <td>Home Win</td>\n",
       "    </tr>\n",
       "    <tr>\n",
       "      <th>3</th>\n",
       "      <td>ID_ZQOB9ZQL</td>\n",
       "      <td>Draw</td>\n",
       "    </tr>\n",
       "    <tr>\n",
       "      <th>4</th>\n",
       "      <td>ID_ZMO6O1V6</td>\n",
       "      <td>Away win</td>\n",
       "    </tr>\n",
       "  </tbody>\n",
       "</table>\n",
       "</div>"
      ],
      "text/plain": [
       "       Game_ID     Score\n",
       "0  ID_ZUPS2JD2  Away win\n",
       "1  ID_ZTDZNU6I      Draw\n",
       "2  ID_ZRZC49M1  Home Win\n",
       "3  ID_ZQOB9ZQL      Draw\n",
       "4  ID_ZMO6O1V6  Away win"
      ]
     },
     "execution_count": 60,
     "metadata": {},
     "output_type": "execute_result"
    }
   ],
   "source": [
    "submit.head()"
   ]
  },
  {
   "cell_type": "code",
   "execution_count": 61,
   "id": "d865299e",
   "metadata": {},
   "outputs": [],
   "source": [
    "submit.to_csv(\"submission.csv\", index=False)"
   ]
  },
  {
   "cell_type": "markdown",
   "id": "1717456f",
   "metadata": {},
   "source": [
    "## - To Do,\n",
    "\n",
    "1. Try cross validation, be very careful of how you split the data as you can see the test set has a complete different season compared to train\n",
    "2. The date column might be useful \n",
    "3. Try not to drop many columns :)\n",
    "\n",
    "\n",
    "## Good Luck !!!!"
   ]
  }
 ],
 "metadata": {
  "kernelspec": {
   "display_name": "Python 3 (ipykernel)",
   "language": "python",
   "name": "python3"
  },
  "language_info": {
   "codemirror_mode": {
    "name": "ipython",
    "version": 3
   },
   "file_extension": ".py",
   "mimetype": "text/x-python",
   "name": "python",
   "nbconvert_exporter": "python",
   "pygments_lexer": "ipython3",
   "version": "3.8.10"
  }
 },
 "nbformat": 4,
 "nbformat_minor": 5
}
